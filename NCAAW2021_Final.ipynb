{
  "nbformat": 4,
  "nbformat_minor": 0,
  "metadata": {
    "colab": {
      "name": "NCAAW2021_Final.ipynb",
      "provenance": [],
      "collapsed_sections": [],
      "authorship_tag": "ABX9TyM3R+kThRETdtX+H9j9rT0Y",
      "include_colab_link": true
    },
    "kernelspec": {
      "name": "python3",
      "display_name": "Python 3"
    }
  },
  "cells": [
    {
      "cell_type": "markdown",
      "metadata": {
        "id": "view-in-github",
        "colab_type": "text"
      },
      "source": [
        "<a href=\"https://colab.research.google.com/github/danny980521/NCAAW2021-Solution/blob/main/NCAAW2021_Final.ipynb\" target=\"_parent\"><img src=\"https://colab.research.google.com/assets/colab-badge.svg\" alt=\"Open In Colab\"/></a>"
      ]
    },
    {
      "cell_type": "code",
      "metadata": {
        "colab": {
          "base_uri": "https://localhost:8080/"
        },
        "id": "CVnRHiqJzoRU",
        "outputId": "6581eff2-4e57-4217-8582-eb54018267db"
      },
      "source": [
        "from google.colab import drive\n",
        "drive.mount('/content/drive')"
      ],
      "execution_count": null,
      "outputs": [
        {
          "output_type": "stream",
          "text": [
            "Drive already mounted at /content/drive; to attempt to forcibly remount, call drive.mount(\"/content/drive\", force_remount=True).\n"
          ],
          "name": "stdout"
        }
      ]
    },
    {
      "cell_type": "code",
      "metadata": {
        "id": "bwHto179yvXv"
      },
      "source": [
        "import pandas as pd\n",
        "\n",
        "path = \"/content/drive/My Drive/ncaaw/다운로드/\"\n",
        "s1 = pd.read_csv(path + 'WSampleSubmissionStage2.csv')\n",
        "submission = pd.read_csv(path + 'WSampleSubmissionStage2.csv')"
      ],
      "execution_count": null,
      "outputs": []
    },
    {
      "cell_type": "code",
      "metadata": {
        "id": "vhKu_l9YzyjM"
      },
      "source": [
        "final_Pred = s1['Pred']"
      ],
      "execution_count": null,
      "outputs": []
    },
    {
      "cell_type": "code",
      "metadata": {
        "colab": {
          "base_uri": "https://localhost:8080/"
        },
        "id": "ZUYBjejg4DJP",
        "outputId": "5d7f010c-a25e-4419-8dd7-a01056af8b9f"
      },
      "source": [
        "s1['T1'] = 0\n",
        "s1['T2'] = 0\n",
        "for i in range(2016) :\n",
        "  s1['T1'][i] = s1['ID'][i][5:9]\n",
        "  s1['T2'][i] = s1['ID'][i][10:]"
      ],
      "execution_count": null,
      "outputs": [
        {
          "output_type": "stream",
          "text": [
            "/usr/local/lib/python3.7/dist-packages/ipykernel_launcher.py:4: SettingWithCopyWarning: \n",
            "A value is trying to be set on a copy of a slice from a DataFrame\n",
            "\n",
            "See the caveats in the documentation: https://pandas.pydata.org/pandas-docs/stable/user_guide/indexing.html#returning-a-view-versus-a-copy\n",
            "  after removing the cwd from sys.path.\n",
            "/usr/local/lib/python3.7/dist-packages/ipykernel_launcher.py:5: SettingWithCopyWarning: \n",
            "A value is trying to be set on a copy of a slice from a DataFrame\n",
            "\n",
            "See the caveats in the documentation: https://pandas.pydata.org/pandas-docs/stable/user_guide/indexing.html#returning-a-view-versus-a-copy\n",
            "  \"\"\"\n"
          ],
          "name": "stderr"
        }
      ]
    },
    {
      "cell_type": "code",
      "metadata": {
        "colab": {
          "base_uri": "https://localhost:8080/",
          "height": 419
        },
        "id": "6FtKDo8z4zAJ",
        "outputId": "ecc5c014-7009-4b16-b6b3-3d852fcbb265"
      },
      "source": [
        "s1"
      ],
      "execution_count": null,
      "outputs": [
        {
          "output_type": "execute_result",
          "data": {
            "text/html": [
              "<div>\n",
              "<style scoped>\n",
              "    .dataframe tbody tr th:only-of-type {\n",
              "        vertical-align: middle;\n",
              "    }\n",
              "\n",
              "    .dataframe tbody tr th {\n",
              "        vertical-align: top;\n",
              "    }\n",
              "\n",
              "    .dataframe thead th {\n",
              "        text-align: right;\n",
              "    }\n",
              "</style>\n",
              "<table border=\"1\" class=\"dataframe\">\n",
              "  <thead>\n",
              "    <tr style=\"text-align: right;\">\n",
              "      <th></th>\n",
              "      <th>ID</th>\n",
              "      <th>Pred</th>\n",
              "      <th>T1</th>\n",
              "      <th>T2</th>\n",
              "    </tr>\n",
              "  </thead>\n",
              "  <tbody>\n",
              "    <tr>\n",
              "      <th>0</th>\n",
              "      <td>2021_3104_3112</td>\n",
              "      <td>0.5</td>\n",
              "      <td>3104</td>\n",
              "      <td>3112</td>\n",
              "    </tr>\n",
              "    <tr>\n",
              "      <th>1</th>\n",
              "      <td>2021_3104_3116</td>\n",
              "      <td>0.5</td>\n",
              "      <td>3104</td>\n",
              "      <td>3116</td>\n",
              "    </tr>\n",
              "    <tr>\n",
              "      <th>2</th>\n",
              "      <td>2021_3104_3124</td>\n",
              "      <td>0.5</td>\n",
              "      <td>3104</td>\n",
              "      <td>3124</td>\n",
              "    </tr>\n",
              "    <tr>\n",
              "      <th>3</th>\n",
              "      <td>2021_3104_3125</td>\n",
              "      <td>0.5</td>\n",
              "      <td>3104</td>\n",
              "      <td>3125</td>\n",
              "    </tr>\n",
              "    <tr>\n",
              "      <th>4</th>\n",
              "      <td>2021_3104_3133</td>\n",
              "      <td>0.5</td>\n",
              "      <td>3104</td>\n",
              "      <td>3133</td>\n",
              "    </tr>\n",
              "    <tr>\n",
              "      <th>...</th>\n",
              "      <td>...</td>\n",
              "      <td>...</td>\n",
              "      <td>...</td>\n",
              "      <td>...</td>\n",
              "    </tr>\n",
              "    <tr>\n",
              "      <th>2011</th>\n",
              "      <td>2021_3450_3460</td>\n",
              "      <td>0.5</td>\n",
              "      <td>3450</td>\n",
              "      <td>3460</td>\n",
              "    </tr>\n",
              "    <tr>\n",
              "      <th>2012</th>\n",
              "      <td>2021_3450_3461</td>\n",
              "      <td>0.5</td>\n",
              "      <td>3450</td>\n",
              "      <td>3461</td>\n",
              "    </tr>\n",
              "    <tr>\n",
              "      <th>2013</th>\n",
              "      <td>2021_3452_3460</td>\n",
              "      <td>0.5</td>\n",
              "      <td>3452</td>\n",
              "      <td>3460</td>\n",
              "    </tr>\n",
              "    <tr>\n",
              "      <th>2014</th>\n",
              "      <td>2021_3452_3461</td>\n",
              "      <td>0.5</td>\n",
              "      <td>3452</td>\n",
              "      <td>3461</td>\n",
              "    </tr>\n",
              "    <tr>\n",
              "      <th>2015</th>\n",
              "      <td>2021_3460_3461</td>\n",
              "      <td>0.5</td>\n",
              "      <td>3460</td>\n",
              "      <td>3461</td>\n",
              "    </tr>\n",
              "  </tbody>\n",
              "</table>\n",
              "<p>2016 rows × 4 columns</p>\n",
              "</div>"
            ],
            "text/plain": [
              "                  ID  Pred    T1    T2\n",
              "0     2021_3104_3112   0.5  3104  3112\n",
              "1     2021_3104_3116   0.5  3104  3116\n",
              "2     2021_3104_3124   0.5  3104  3124\n",
              "3     2021_3104_3125   0.5  3104  3125\n",
              "4     2021_3104_3133   0.5  3104  3133\n",
              "...              ...   ...   ...   ...\n",
              "2011  2021_3450_3460   0.5  3450  3460\n",
              "2012  2021_3450_3461   0.5  3450  3461\n",
              "2013  2021_3452_3460   0.5  3452  3460\n",
              "2014  2021_3452_3461   0.5  3452  3461\n",
              "2015  2021_3460_3461   0.5  3460  3461\n",
              "\n",
              "[2016 rows x 4 columns]"
            ]
          },
          "metadata": {
            "tags": []
          },
          "execution_count": 6
        }
      ]
    },
    {
      "cell_type": "code",
      "metadata": {
        "colab": {
          "base_uri": "https://localhost:8080/"
        },
        "id": "IF351ob3waR5",
        "outputId": "3fff9c86-e8e8-4b0e-ade4-8ae53a357dc1"
      },
      "source": [
        "final_Pred.head(100)"
      ],
      "execution_count": null,
      "outputs": [
        {
          "output_type": "execute_result",
          "data": {
            "text/plain": [
              "0     0.5\n",
              "1     0.5\n",
              "2     0.5\n",
              "3     0.5\n",
              "4     0.5\n",
              "     ... \n",
              "95    0.5\n",
              "96    0.5\n",
              "97    0.5\n",
              "98    0.5\n",
              "99    0.5\n",
              "Name: Pred, Length: 100, dtype: float64"
            ]
          },
          "metadata": {
            "tags": []
          },
          "execution_count": 7
        }
      ]
    },
    {
      "cell_type": "code",
      "metadata": {
        "id": "82Kq_OpOlEzj"
      },
      "source": [
        "fte = pd.read_csv(path + '538 Womens 2021 March Madness Predictions2.csv')"
      ],
      "execution_count": null,
      "outputs": []
    },
    {
      "cell_type": "code",
      "metadata": {
        "colab": {
          "base_uri": "https://localhost:8080/",
          "height": 419
        },
        "id": "VdU37zUNpJP3",
        "outputId": "cd5d9cc2-16f2-464b-b86e-8f7a2be7257d"
      },
      "source": [
        "fte"
      ],
      "execution_count": null,
      "outputs": [
        {
          "output_type": "execute_result",
          "data": {
            "text/html": [
              "<div>\n",
              "<style scoped>\n",
              "    .dataframe tbody tr th:only-of-type {\n",
              "        vertical-align: middle;\n",
              "    }\n",
              "\n",
              "    .dataframe tbody tr th {\n",
              "        vertical-align: top;\n",
              "    }\n",
              "\n",
              "    .dataframe thead th {\n",
              "        text-align: right;\n",
              "    }\n",
              "</style>\n",
              "<table border=\"1\" class=\"dataframe\">\n",
              "  <thead>\n",
              "    <tr style=\"text-align: right;\">\n",
              "      <th></th>\n",
              "      <th>TEAM</th>\n",
              "      <th>REGION</th>\n",
              "      <th>POWER RATING</th>\n",
              "      <th>1ST</th>\n",
              "      <th>2ND</th>\n",
              "      <th>SWEET 16</th>\n",
              "      <th>ELITE EIGHT</th>\n",
              "      <th>FINAL FOUR</th>\n",
              "      <th>CHAMP.</th>\n",
              "      <th>WIN</th>\n",
              "      <th>SEED</th>\n",
              "      <th>CODE</th>\n",
              "    </tr>\n",
              "  </thead>\n",
              "  <tbody>\n",
              "    <tr>\n",
              "      <th>0</th>\n",
              "      <td>Stanford</td>\n",
              "      <td>Alamo</td>\n",
              "      <td>106.5</td>\n",
              "      <td>100.00%</td>\n",
              "      <td>99.50</td>\n",
              "      <td>96.00</td>\n",
              "      <td>90.00%</td>\n",
              "      <td>77.00%</td>\n",
              "      <td>54.00%</td>\n",
              "      <td>36.00%</td>\n",
              "      <td>1</td>\n",
              "      <td>3390</td>\n",
              "    </tr>\n",
              "    <tr>\n",
              "      <th>1</th>\n",
              "      <td>Uconn</td>\n",
              "      <td>River Walk</td>\n",
              "      <td>104.3</td>\n",
              "      <td>100.00%</td>\n",
              "      <td>99.50</td>\n",
              "      <td>95.00</td>\n",
              "      <td>87.00%</td>\n",
              "      <td>58.00%</td>\n",
              "      <td>46.00%</td>\n",
              "      <td>24.00%</td>\n",
              "      <td>1</td>\n",
              "      <td>3163</td>\n",
              "    </tr>\n",
              "    <tr>\n",
              "      <th>2</th>\n",
              "      <td>S. Carolina</td>\n",
              "      <td>Hemisfair</td>\n",
              "      <td>101.8</td>\n",
              "      <td>100.00%</td>\n",
              "      <td>99.50</td>\n",
              "      <td>89.00</td>\n",
              "      <td>81.00%</td>\n",
              "      <td>50.00%</td>\n",
              "      <td>22.00%</td>\n",
              "      <td>12.00%</td>\n",
              "      <td>1</td>\n",
              "      <td>3376</td>\n",
              "    </tr>\n",
              "    <tr>\n",
              "      <th>3</th>\n",
              "      <td>Baylor</td>\n",
              "      <td>River Walk</td>\n",
              "      <td>101.1</td>\n",
              "      <td>100.00%</td>\n",
              "      <td>99.00</td>\n",
              "      <td>91.00</td>\n",
              "      <td>78.00%</td>\n",
              "      <td>35.00%</td>\n",
              "      <td>25.00%</td>\n",
              "      <td>11.00%</td>\n",
              "      <td>2</td>\n",
              "      <td>3124</td>\n",
              "    </tr>\n",
              "    <tr>\n",
              "      <th>4</th>\n",
              "      <td>Maryland</td>\n",
              "      <td>Hemisfair</td>\n",
              "      <td>99.9</td>\n",
              "      <td>100.00%</td>\n",
              "      <td>99.50</td>\n",
              "      <td>91.00</td>\n",
              "      <td>65.00%</td>\n",
              "      <td>33.00%</td>\n",
              "      <td>13.00%</td>\n",
              "      <td>6.00%</td>\n",
              "      <td>2</td>\n",
              "      <td>3268</td>\n",
              "    </tr>\n",
              "    <tr>\n",
              "      <th>...</th>\n",
              "      <td>...</td>\n",
              "      <td>...</td>\n",
              "      <td>...</td>\n",
              "      <td>...</td>\n",
              "      <td>...</td>\n",
              "      <td>...</td>\n",
              "      <td>...</td>\n",
              "      <td>...</td>\n",
              "      <td>...</td>\n",
              "      <td>...</td>\n",
              "      <td>...</td>\n",
              "      <td>...</td>\n",
              "    </tr>\n",
              "    <tr>\n",
              "      <th>59</th>\n",
              "      <td>NC A&amp;T</td>\n",
              "      <td>Mercado</td>\n",
              "      <td>67.2</td>\n",
              "      <td>100.00%</td>\n",
              "      <td>0.90</td>\n",
              "      <td>0.05</td>\n",
              "      <td>0.05%</td>\n",
              "      <td>0.05%</td>\n",
              "      <td>0.05%</td>\n",
              "      <td>0.05%</td>\n",
              "      <td>16</td>\n",
              "      <td>3299</td>\n",
              "    </tr>\n",
              "    <tr>\n",
              "      <th>60</th>\n",
              "      <td>High Point</td>\n",
              "      <td>River Walk</td>\n",
              "      <td>66.7</td>\n",
              "      <td>100.00%</td>\n",
              "      <td>0.20</td>\n",
              "      <td>0.05</td>\n",
              "      <td>0.05%</td>\n",
              "      <td>0.05%</td>\n",
              "      <td>0.05%</td>\n",
              "      <td>0.05%</td>\n",
              "      <td>16</td>\n",
              "      <td>3219</td>\n",
              "    </tr>\n",
              "    <tr>\n",
              "      <th>61</th>\n",
              "      <td>Mercer</td>\n",
              "      <td>Hemisfair</td>\n",
              "      <td>66.9</td>\n",
              "      <td>100.00%</td>\n",
              "      <td>0.30</td>\n",
              "      <td>0.05</td>\n",
              "      <td>0.05%</td>\n",
              "      <td>0.05%</td>\n",
              "      <td>0.05%</td>\n",
              "      <td>0.05%</td>\n",
              "      <td>16</td>\n",
              "      <td>3273</td>\n",
              "    </tr>\n",
              "    <tr>\n",
              "      <th>62</th>\n",
              "      <td>Mt. St. Mary's</td>\n",
              "      <td>Hemisfair</td>\n",
              "      <td>65.7</td>\n",
              "      <td>100.00%</td>\n",
              "      <td>0.40</td>\n",
              "      <td>0.05</td>\n",
              "      <td>0.05%</td>\n",
              "      <td>0.05%</td>\n",
              "      <td>0.05%</td>\n",
              "      <td>0.05%</td>\n",
              "      <td>15</td>\n",
              "      <td>3291</td>\n",
              "    </tr>\n",
              "    <tr>\n",
              "      <th>63</th>\n",
              "      <td>Utah Valley</td>\n",
              "      <td>Alamo</td>\n",
              "      <td>61.6</td>\n",
              "      <td>100.00%</td>\n",
              "      <td>0.05</td>\n",
              "      <td>0.05</td>\n",
              "      <td>0.05%</td>\n",
              "      <td>0.05%</td>\n",
              "      <td>0.05%</td>\n",
              "      <td>0.05%</td>\n",
              "      <td>16</td>\n",
              "      <td>3430</td>\n",
              "    </tr>\n",
              "  </tbody>\n",
              "</table>\n",
              "<p>64 rows × 12 columns</p>\n",
              "</div>"
            ],
            "text/plain": [
              "              TEAM      REGION  POWER RATING  ...     WIN  SEED  CODE\n",
              "0         Stanford       Alamo         106.5  ...  36.00%     1  3390\n",
              "1            Uconn  River Walk         104.3  ...  24.00%     1  3163\n",
              "2      S. Carolina   Hemisfair         101.8  ...  12.00%     1  3376\n",
              "3           Baylor  River Walk         101.1  ...  11.00%     2  3124\n",
              "4         Maryland   Hemisfair          99.9  ...   6.00%     2  3268\n",
              "..             ...         ...           ...  ...     ...   ...   ...\n",
              "59          NC A&T     Mercado          67.2  ...   0.05%    16  3299\n",
              "60      High Point  River Walk          66.7  ...   0.05%    16  3219\n",
              "61          Mercer   Hemisfair          66.9  ...   0.05%    16  3273\n",
              "62  Mt. St. Mary's   Hemisfair          65.7  ...   0.05%    15  3291\n",
              "63     Utah Valley       Alamo          61.6  ...   0.05%    16  3430\n",
              "\n",
              "[64 rows x 12 columns]"
            ]
          },
          "metadata": {
            "tags": []
          },
          "execution_count": 9
        }
      ]
    },
    {
      "cell_type": "code",
      "metadata": {
        "id": "9ob9nD32x1Mx"
      },
      "source": [
        "fte_code = fte.set_index(\"CODE\")"
      ],
      "execution_count": null,
      "outputs": []
    },
    {
      "cell_type": "code",
      "metadata": {
        "colab": {
          "base_uri": "https://localhost:8080/",
          "height": 450
        },
        "id": "rSv747LFyohM",
        "outputId": "bd822ca3-9e25-4c41-eccb-441971e41674"
      },
      "source": [
        "fte_code"
      ],
      "execution_count": null,
      "outputs": [
        {
          "output_type": "execute_result",
          "data": {
            "text/html": [
              "<div>\n",
              "<style scoped>\n",
              "    .dataframe tbody tr th:only-of-type {\n",
              "        vertical-align: middle;\n",
              "    }\n",
              "\n",
              "    .dataframe tbody tr th {\n",
              "        vertical-align: top;\n",
              "    }\n",
              "\n",
              "    .dataframe thead th {\n",
              "        text-align: right;\n",
              "    }\n",
              "</style>\n",
              "<table border=\"1\" class=\"dataframe\">\n",
              "  <thead>\n",
              "    <tr style=\"text-align: right;\">\n",
              "      <th></th>\n",
              "      <th>TEAM</th>\n",
              "      <th>REGION</th>\n",
              "      <th>POWER RATING</th>\n",
              "      <th>1ST</th>\n",
              "      <th>2ND</th>\n",
              "      <th>SWEET 16</th>\n",
              "      <th>ELITE EIGHT</th>\n",
              "      <th>FINAL FOUR</th>\n",
              "      <th>CHAMP.</th>\n",
              "      <th>WIN</th>\n",
              "      <th>SEED</th>\n",
              "    </tr>\n",
              "    <tr>\n",
              "      <th>CODE</th>\n",
              "      <th></th>\n",
              "      <th></th>\n",
              "      <th></th>\n",
              "      <th></th>\n",
              "      <th></th>\n",
              "      <th></th>\n",
              "      <th></th>\n",
              "      <th></th>\n",
              "      <th></th>\n",
              "      <th></th>\n",
              "      <th></th>\n",
              "    </tr>\n",
              "  </thead>\n",
              "  <tbody>\n",
              "    <tr>\n",
              "      <th>3390</th>\n",
              "      <td>Stanford</td>\n",
              "      <td>Alamo</td>\n",
              "      <td>106.5</td>\n",
              "      <td>100.00%</td>\n",
              "      <td>99.50</td>\n",
              "      <td>96.00</td>\n",
              "      <td>90.00%</td>\n",
              "      <td>77.00%</td>\n",
              "      <td>54.00%</td>\n",
              "      <td>36.00%</td>\n",
              "      <td>1</td>\n",
              "    </tr>\n",
              "    <tr>\n",
              "      <th>3163</th>\n",
              "      <td>Uconn</td>\n",
              "      <td>River Walk</td>\n",
              "      <td>104.3</td>\n",
              "      <td>100.00%</td>\n",
              "      <td>99.50</td>\n",
              "      <td>95.00</td>\n",
              "      <td>87.00%</td>\n",
              "      <td>58.00%</td>\n",
              "      <td>46.00%</td>\n",
              "      <td>24.00%</td>\n",
              "      <td>1</td>\n",
              "    </tr>\n",
              "    <tr>\n",
              "      <th>3376</th>\n",
              "      <td>S. Carolina</td>\n",
              "      <td>Hemisfair</td>\n",
              "      <td>101.8</td>\n",
              "      <td>100.00%</td>\n",
              "      <td>99.50</td>\n",
              "      <td>89.00</td>\n",
              "      <td>81.00%</td>\n",
              "      <td>50.00%</td>\n",
              "      <td>22.00%</td>\n",
              "      <td>12.00%</td>\n",
              "      <td>1</td>\n",
              "    </tr>\n",
              "    <tr>\n",
              "      <th>3124</th>\n",
              "      <td>Baylor</td>\n",
              "      <td>River Walk</td>\n",
              "      <td>101.1</td>\n",
              "      <td>100.00%</td>\n",
              "      <td>99.00</td>\n",
              "      <td>91.00</td>\n",
              "      <td>78.00%</td>\n",
              "      <td>35.00%</td>\n",
              "      <td>25.00%</td>\n",
              "      <td>11.00%</td>\n",
              "      <td>2</td>\n",
              "    </tr>\n",
              "    <tr>\n",
              "      <th>3268</th>\n",
              "      <td>Maryland</td>\n",
              "      <td>Hemisfair</td>\n",
              "      <td>99.9</td>\n",
              "      <td>100.00%</td>\n",
              "      <td>99.50</td>\n",
              "      <td>91.00</td>\n",
              "      <td>65.00%</td>\n",
              "      <td>33.00%</td>\n",
              "      <td>13.00%</td>\n",
              "      <td>6.00%</td>\n",
              "      <td>2</td>\n",
              "    </tr>\n",
              "    <tr>\n",
              "      <th>...</th>\n",
              "      <td>...</td>\n",
              "      <td>...</td>\n",
              "      <td>...</td>\n",
              "      <td>...</td>\n",
              "      <td>...</td>\n",
              "      <td>...</td>\n",
              "      <td>...</td>\n",
              "      <td>...</td>\n",
              "      <td>...</td>\n",
              "      <td>...</td>\n",
              "      <td>...</td>\n",
              "    </tr>\n",
              "    <tr>\n",
              "      <th>3299</th>\n",
              "      <td>NC A&amp;T</td>\n",
              "      <td>Mercado</td>\n",
              "      <td>67.2</td>\n",
              "      <td>100.00%</td>\n",
              "      <td>0.90</td>\n",
              "      <td>0.05</td>\n",
              "      <td>0.05%</td>\n",
              "      <td>0.05%</td>\n",
              "      <td>0.05%</td>\n",
              "      <td>0.05%</td>\n",
              "      <td>16</td>\n",
              "    </tr>\n",
              "    <tr>\n",
              "      <th>3219</th>\n",
              "      <td>High Point</td>\n",
              "      <td>River Walk</td>\n",
              "      <td>66.7</td>\n",
              "      <td>100.00%</td>\n",
              "      <td>0.20</td>\n",
              "      <td>0.05</td>\n",
              "      <td>0.05%</td>\n",
              "      <td>0.05%</td>\n",
              "      <td>0.05%</td>\n",
              "      <td>0.05%</td>\n",
              "      <td>16</td>\n",
              "    </tr>\n",
              "    <tr>\n",
              "      <th>3273</th>\n",
              "      <td>Mercer</td>\n",
              "      <td>Hemisfair</td>\n",
              "      <td>66.9</td>\n",
              "      <td>100.00%</td>\n",
              "      <td>0.30</td>\n",
              "      <td>0.05</td>\n",
              "      <td>0.05%</td>\n",
              "      <td>0.05%</td>\n",
              "      <td>0.05%</td>\n",
              "      <td>0.05%</td>\n",
              "      <td>16</td>\n",
              "    </tr>\n",
              "    <tr>\n",
              "      <th>3291</th>\n",
              "      <td>Mt. St. Mary's</td>\n",
              "      <td>Hemisfair</td>\n",
              "      <td>65.7</td>\n",
              "      <td>100.00%</td>\n",
              "      <td>0.40</td>\n",
              "      <td>0.05</td>\n",
              "      <td>0.05%</td>\n",
              "      <td>0.05%</td>\n",
              "      <td>0.05%</td>\n",
              "      <td>0.05%</td>\n",
              "      <td>15</td>\n",
              "    </tr>\n",
              "    <tr>\n",
              "      <th>3430</th>\n",
              "      <td>Utah Valley</td>\n",
              "      <td>Alamo</td>\n",
              "      <td>61.6</td>\n",
              "      <td>100.00%</td>\n",
              "      <td>0.05</td>\n",
              "      <td>0.05</td>\n",
              "      <td>0.05%</td>\n",
              "      <td>0.05%</td>\n",
              "      <td>0.05%</td>\n",
              "      <td>0.05%</td>\n",
              "      <td>16</td>\n",
              "    </tr>\n",
              "  </tbody>\n",
              "</table>\n",
              "<p>64 rows × 11 columns</p>\n",
              "</div>"
            ],
            "text/plain": [
              "                TEAM      REGION  POWER RATING  ...  CHAMP.     WIN  SEED\n",
              "CODE                                            ...                      \n",
              "3390        Stanford       Alamo         106.5  ...  54.00%  36.00%     1\n",
              "3163           Uconn  River Walk         104.3  ...  46.00%  24.00%     1\n",
              "3376     S. Carolina   Hemisfair         101.8  ...  22.00%  12.00%     1\n",
              "3124          Baylor  River Walk         101.1  ...  25.00%  11.00%     2\n",
              "3268        Maryland   Hemisfair          99.9  ...  13.00%   6.00%     2\n",
              "...              ...         ...           ...  ...     ...     ...   ...\n",
              "3299          NC A&T     Mercado          67.2  ...   0.05%   0.05%    16\n",
              "3219      High Point  River Walk          66.7  ...   0.05%   0.05%    16\n",
              "3273          Mercer   Hemisfair          66.9  ...   0.05%   0.05%    16\n",
              "3291  Mt. St. Mary's   Hemisfair          65.7  ...   0.05%   0.05%    15\n",
              "3430     Utah Valley       Alamo          61.6  ...   0.05%   0.05%    16\n",
              "\n",
              "[64 rows x 11 columns]"
            ]
          },
          "metadata": {
            "tags": []
          },
          "execution_count": 11
        }
      ]
    },
    {
      "cell_type": "code",
      "metadata": {
        "colab": {
          "base_uri": "https://localhost:8080/"
        },
        "id": "rkut9TyJywIe",
        "outputId": "2361c2f7-ec00-4116-959c-e60e60e035ff"
      },
      "source": [
        "(fte_code.loc[s1['T1'][0],['REGION']])"
      ],
      "execution_count": null,
      "outputs": [
        {
          "output_type": "execute_result",
          "data": {
            "text/plain": [
              "REGION    Hemisfair\n",
              "Name: 3104, dtype: object"
            ]
          },
          "metadata": {
            "tags": []
          },
          "execution_count": 12
        }
      ]
    },
    {
      "cell_type": "code",
      "metadata": {
        "colab": {
          "base_uri": "https://localhost:8080/",
          "height": 35
        },
        "id": "tnOnQp0o-Aui",
        "outputId": "8f2825e1-bd2c-4800-af5a-db94cb934dcb"
      },
      "source": [
        "(fte_code.loc[3104,'REGION'])"
      ],
      "execution_count": null,
      "outputs": [
        {
          "output_type": "execute_result",
          "data": {
            "application/vnd.google.colaboratory.intrinsic+json": {
              "type": "string"
            },
            "text/plain": [
              "'Hemisfair'"
            ]
          },
          "metadata": {
            "tags": []
          },
          "execution_count": 13
        }
      ]
    },
    {
      "cell_type": "code",
      "metadata": {
        "colab": {
          "base_uri": "https://localhost:8080/"
        },
        "id": "-GOr7Rmny7EJ",
        "outputId": "e105f5b1-d78d-45f6-a554-71e16011be7a"
      },
      "source": [
        "s1['Round'] = 0\n",
        "for i in range(2016) :\n",
        "  if (fte_code.loc[s1['T1'][i],'REGION']) == (fte_code.loc[s1['T2'][i],'REGION']) :\n",
        "        if fte_code['SEED'][s1['T1'][i]] + fte_code['SEED'][s1['T2'][i]] == 17 :\n",
        "          s1['Round'][i] = 1"
      ],
      "execution_count": null,
      "outputs": [
        {
          "output_type": "stream",
          "text": [
            "/usr/local/lib/python3.7/dist-packages/ipykernel_launcher.py:5: SettingWithCopyWarning: \n",
            "A value is trying to be set on a copy of a slice from a DataFrame\n",
            "\n",
            "See the caveats in the documentation: https://pandas.pydata.org/pandas-docs/stable/user_guide/indexing.html#returning-a-view-versus-a-copy\n",
            "  \"\"\"\n"
          ],
          "name": "stderr"
        }
      ]
    },
    {
      "cell_type": "code",
      "metadata": {
        "colab": {
          "base_uri": "https://localhost:8080/"
        },
        "id": "n0Jzwayu-Lgj",
        "outputId": "18a99ffb-7782-45cb-80f7-d26e379e8052"
      },
      "source": [
        "s1['Round'].value_counts()"
      ],
      "execution_count": null,
      "outputs": [
        {
          "output_type": "execute_result",
          "data": {
            "text/plain": [
              "0    1984\n",
              "1      32\n",
              "Name: Round, dtype: int64"
            ]
          },
          "metadata": {
            "tags": []
          },
          "execution_count": 15
        }
      ]
    },
    {
      "cell_type": "code",
      "metadata": {
        "colab": {
          "base_uri": "https://localhost:8080/"
        },
        "id": "kWWfOy0YF9v6",
        "outputId": "04924697-4b0c-4e73-bf30-ea8892a731b1"
      },
      "source": [
        "#1라운드 확률 반영\n",
        "for i in range(2016) : \n",
        " if s1['Round'][i] == 1:\n",
        "   final_Pred[i] = float(fte_code.loc[s1['T1'][i],'2ND']) * 0.01"
      ],
      "execution_count": null,
      "outputs": [
        {
          "output_type": "stream",
          "text": [
            "/usr/local/lib/python3.7/dist-packages/ipykernel_launcher.py:4: SettingWithCopyWarning: \n",
            "A value is trying to be set on a copy of a slice from a DataFrame\n",
            "\n",
            "See the caveats in the documentation: https://pandas.pydata.org/pandas-docs/stable/user_guide/indexing.html#returning-a-view-versus-a-copy\n",
            "  after removing the cwd from sys.path.\n"
          ],
          "name": "stderr"
        }
      ]
    },
    {
      "cell_type": "code",
      "metadata": {
        "colab": {
          "base_uri": "https://localhost:8080/"
        },
        "id": "2jDQRAXiH1-L",
        "outputId": "aa299a35-f80a-4778-c0f9-917310ebd01d"
      },
      "source": [
        "#1라운드 이후 확률 반영\n",
        "for i in range(2016) : \n",
        " if s1['Round'][i] != 1:\n",
        "   final_Pred[i] = 1/(1+ 10**((fte_code.loc[s1['T2'][i],'POWER RATING']-fte_code.loc[s1['T1'][i],'POWER RATING'])*30.464/400))"
      ],
      "execution_count": null,
      "outputs": [
        {
          "output_type": "stream",
          "text": [
            "/usr/local/lib/python3.7/dist-packages/ipykernel_launcher.py:4: SettingWithCopyWarning: \n",
            "A value is trying to be set on a copy of a slice from a DataFrame\n",
            "\n",
            "See the caveats in the documentation: https://pandas.pydata.org/pandas-docs/stable/user_guide/indexing.html#returning-a-view-versus-a-copy\n",
            "  after removing the cwd from sys.path.\n"
          ],
          "name": "stderr"
        }
      ]
    },
    {
      "cell_type": "code",
      "metadata": {
        "colab": {
          "base_uri": "https://localhost:8080/"
        },
        "id": "sHtw2Cjc5Q2U",
        "outputId": "c62fe350-4407-4e55-dc09-abfb3307ec38"
      },
      "source": [
        "final_Pred.head(20)"
      ],
      "execution_count": null,
      "outputs": [
        {
          "output_type": "execute_result",
          "data": {
            "text/plain": [
              "0     0.154330\n",
              "1     0.279495\n",
              "2     0.049095\n",
              "3     0.810848\n",
              "4     0.785448\n",
              "5     0.676237\n",
              "6     0.779478\n",
              "7     0.028614\n",
              "8     0.905698\n",
              "9     0.607881\n",
              "10    0.526280\n",
              "11    0.279495\n",
              "12    0.417464\n",
              "13    0.331489\n",
              "14    0.955591\n",
              "15    0.788388\n",
              "16    0.186477\n",
              "17    0.331489\n",
              "18    0.335386\n",
              "19    0.940095\n",
              "Name: Pred, dtype: float64"
            ]
          },
          "metadata": {
            "tags": []
          },
          "execution_count": 18
        }
      ]
    },
    {
      "cell_type": "code",
      "metadata": {
        "id": "fgH6zHsavVDd"
      },
      "source": [
        "#제출\n",
        "submission['Pred'] = final_Pred\n",
        "submission.to_csv('/content/drive/My Drive/ncaaw/ncaaw_base1.csv', index = False)"
      ],
      "execution_count": null,
      "outputs": []
    },
    {
      "cell_type": "code",
      "metadata": {
        "id": "KjemQen7c6Ij"
      },
      "source": [
        "# for i in range(2016) : \n",
        "#   if s1['T1'][i] == 3390:\n",
        "#     final_Pred[i] = 1\n",
        "#   if s1['T2'][i] == 3390:\n",
        "#     final_Pred[i] = 0\n",
        "# #제출\n",
        "# submission['Pred'] = final_Pred\n",
        "# submission.to_csv('/content/drive/My Drive/ncaaw/ncaaw_stanford1.csv', index = False)"
      ],
      "execution_count": null,
      "outputs": []
    },
    {
      "cell_type": "code",
      "metadata": {
        "colab": {
          "base_uri": "https://localhost:8080/"
        },
        "id": "3KTT-HXJb1F1",
        "outputId": "34a49622-5750-4404-d2d5-569e89c5b35e"
      },
      "source": [
        "for i in range(2016) : \n",
        "  if final_Pred[i] > 0.99:\n",
        "    final_Pred[i] = 0.99\n",
        "  if final_Pred[i] < 0.01:\n",
        "    final_Pred[i] = 0.01\n",
        "#제출\n",
        "submission['Pred'] = final_Pred\n",
        "submission.to_csv('/content/drive/My Drive/ncaaw/ncaaw_base2.csv', index = False)"
      ],
      "execution_count": null,
      "outputs": [
        {
          "output_type": "stream",
          "text": [
            "/usr/local/lib/python3.7/dist-packages/ipykernel_launcher.py:3: SettingWithCopyWarning: \n",
            "A value is trying to be set on a copy of a slice from a DataFrame\n",
            "\n",
            "See the caveats in the documentation: https://pandas.pydata.org/pandas-docs/stable/user_guide/indexing.html#returning-a-view-versus-a-copy\n",
            "  This is separate from the ipykernel package so we can avoid doing imports until\n",
            "/usr/local/lib/python3.7/dist-packages/ipykernel_launcher.py:5: SettingWithCopyWarning: \n",
            "A value is trying to be set on a copy of a slice from a DataFrame\n",
            "\n",
            "See the caveats in the documentation: https://pandas.pydata.org/pandas-docs/stable/user_guide/indexing.html#returning-a-view-versus-a-copy\n",
            "  \"\"\"\n"
          ],
          "name": "stderr"
        }
      ]
    }
  ]
}